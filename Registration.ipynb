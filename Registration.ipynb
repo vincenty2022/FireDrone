import firedrone.client as fdc
from firedrone.client.errors import FireDroneClientHttpError

registration = fdc.Registration()

user_registration_info = {
    "name": "DroneStuff",
    "devpostAccount": "vincenty2022"
}
new_user = registration.register_user(user_registration_info)
print(new_user)
